{
 "cells": [
  {
   "cell_type": "code",
   "execution_count": 1,
   "id": "34003098-92c7-4564-83f8-995a00e71927",
   "metadata": {},
   "outputs": [],
   "source": [
    "# 4 Classification with SVMs"
   ]
  },
  {
   "cell_type": "code",
   "execution_count": 2,
   "id": "16ff78d6-1873-4233-904f-da67048760f5",
   "metadata": {},
   "outputs": [],
   "source": [
    "# Task 7"
   ]
  },
  {
   "cell_type": "code",
   "execution_count": 1,
   "id": "01fe1cdf-8e18-4ff5-8611-afc627a86da8",
   "metadata": {},
   "outputs": [],
   "source": [
    "# Loads Data\n",
    "import numpy as np\n",
    "\n",
    "file = open(\"breast+cancer+wisconsin+diagnostic/wdbc.data\",\"r\")\n",
    "file_cont = file.read()\n",
    "file.close()\n",
    "lines = file_cont.split(\"\\n\")\n",
    "# Removes last line which is just empty split\n",
    "lines = lines[0:len(lines) - 1]\n",
    "data = np.genfromtxt(\"breast+cancer+wisconsin+diagnostic/wdbc.data\", delimiter=',')\n",
    "# Generates X and Y\n",
    "# Extracts features (removes ID and diagnosis)\n",
    "X = data[:, 2:]\n",
    "# Stores diagnosis labels\n",
    "# 0 = Malignant. 1 = Benign\n",
    "MALIGNANT = 0\n",
    "BENIGN = 1\n",
    "Y = [MALIGNANT if line.split(\",\")[1] == \"M\" else BENIGN for line in lines]"
   ]
  },
  {
   "cell_type": "code",
   "execution_count": 2,
   "id": "ec9bb297-378d-44ee-b284-d040c5bc0ec2",
   "metadata": {},
   "outputs": [
    {
     "name": "stdout",
     "output_type": "stream",
     "text": [
      "(569, 30)\n"
     ]
    }
   ],
   "source": [
    "# Creates training and test splits\n",
    "print(X.shape)\n",
    "X_tr = X[0:450]\n",
    "Y_tr = Y[0:450]\n",
    "X_test = X[450:]\n",
    "Y_test = Y[450:]"
   ]
  },
  {
   "cell_type": "code",
   "execution_count": 3,
   "id": "d75d49fa-ad50-4197-bd60-69be8f7967d0",
   "metadata": {},
   "outputs": [
    {
     "name": "stdout",
     "output_type": "stream",
     "text": [
      "{'C': 1, 'kernel': 'linear'}\n"
     ]
    }
   ],
   "source": [
    "# Trains SVM on training set\n",
    "from sklearn.svm import SVC\n",
    "from sklearn.model_selection import GridSearchCV\n",
    "# Expirements with hyperparameters to find optimal one\n",
    "c_s = [0.01, 0.1, 0.5, 1, 2, 5]\n",
    "kernels = ['linear', 'poly', 'rbf', 'sigmoid']\n",
    "parameters = {'kernel':kernels, 'C':c_s}\n",
    "# Hyperparameter expirements. Results not necessarily used, just interesting to explore.\n",
    "# Best result from this grid search doesn't yield best test yet performance (though it does yield\n",
    "# very strong test performance).\n",
    "svm = SVC()\n",
    "clf = GridSearchCV(svm, parameters, scoring='accuracy')\n",
    "clf.fit(X_tr, Y_tr)\n",
    "print(clf.best_params_)"
   ]
  },
  {
   "cell_type": "code",
   "execution_count": 4,
   "id": "6849f972-38d9-4a42-af35-93018ad2db32",
   "metadata": {},
   "outputs": [
    {
     "name": "stdout",
     "output_type": "stream",
     "text": [
      "Accuracy 0.9411764705882353\n"
     ]
    }
   ],
   "source": [
    "# Trains SVM\n",
    "svm = SVC(C=1, kernel='linear', gamma='scale')\n",
    "svm.fit(X_tr, Y_tr)\n",
    "acc = svm.score(X_test, Y_test)\n",
    "print(\"Accuracy\", acc)"
   ]
  },
  {
   "cell_type": "code",
   "execution_count": null,
   "id": "11323655-5798-4494-ba06-eda22a519b30",
   "metadata": {},
   "outputs": [],
   "source": [
    "# Task 8 - SVM with 2d data instead"
   ]
  },
  {
   "cell_type": "code",
   "execution_count": 5,
   "id": "a7dad80f-134d-439e-8bfa-a0ab5bcb9cde",
   "metadata": {},
   "outputs": [],
   "source": [
    "# Gets 2d data using PCA\n",
    "from sklearn.decomposition import PCA\n",
    "X_reduce = PCA(n_components=2).fit_transform(X)\n",
    "X_tr_reduce = X_reduce[0:450]\n",
    "X_test_reduce = X_reduce[450:]"
   ]
  },
  {
   "cell_type": "code",
   "execution_count": 6,
   "id": "315c6704-3ad4-4ae6-80e0-022079b9ad8c",
   "metadata": {},
   "outputs": [
    {
     "name": "stdout",
     "output_type": "stream",
     "text": [
      "{'C': 0.01, 'kernel': 'linear'}\n"
     ]
    }
   ],
   "source": [
    "# Expirements with hyperparameters to find optimal one\n",
    "c_s = [0.01, 0.1, 0.5, 1, 2, 5]\n",
    "kernels = ['linear', 'poly', 'rbf', 'sigmoid']\n",
    "parameters = {'kernel':kernels, 'C':c_s}\n",
    "# Hyperparameter expirements. Results not necessarily used, just interesting to explore.\n",
    "# Best result from this grid search doesn't yield best test yet performance (though it does yield\n",
    "# very strong test performance).\n",
    "svm = SVC()\n",
    "clf = GridSearchCV(svm, parameters, scoring='accuracy')\n",
    "clf.fit(X_tr_reduce, Y_tr)\n",
    "print(clf.best_params_)"
   ]
  },
  {
   "cell_type": "code",
   "execution_count": 40,
   "id": "6285613d-925b-4120-83b9-89a1add932c0",
   "metadata": {},
   "outputs": [
    {
     "name": "stdout",
     "output_type": "stream",
     "text": [
      "Accuracy 0.9327731092436975\n"
     ]
    }
   ],
   "source": [
    "# Trains SVM\n",
    "svm_red = SVC(C=1, kernel='linear', gamma='scale')\n",
    "svm_red.fit(X_tr_reduce, Y_tr)\n",
    "acc = svm_red.score(X_test_reduce, Y_test)\n",
    "print(\"Accuracy\", acc)"
   ]
  }
 ],
 "metadata": {
  "kernelspec": {
   "display_name": "Python 3 (ipykernel)",
   "language": "python",
   "name": "python3"
  },
  "language_info": {
   "codemirror_mode": {
    "name": "ipython",
    "version": 3
   },
   "file_extension": ".py",
   "mimetype": "text/x-python",
   "name": "python",
   "nbconvert_exporter": "python",
   "pygments_lexer": "ipython3",
   "version": "3.9.9"
  }
 },
 "nbformat": 4,
 "nbformat_minor": 5
}
