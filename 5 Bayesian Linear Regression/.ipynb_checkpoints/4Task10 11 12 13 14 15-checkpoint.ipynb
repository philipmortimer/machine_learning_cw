{
 "cells": [
  {
   "cell_type": "code",
   "execution_count": 1,
   "id": "34003098-92c7-4564-83f8-995a00e71927",
   "metadata": {},
   "outputs": [],
   "source": [
    "# 5 Bayesian Linear Regression"
   ]
  },
  {
   "cell_type": "code",
   "execution_count": 2,
   "id": "16ff78d6-1873-4233-904f-da67048760f5",
   "metadata": {},
   "outputs": [],
   "source": [
    "# Task 10"
   ]
  },
  {
   "cell_type": "code",
   "execution_count": 25,
   "id": "4512796e-bc0c-44e1-9bb0-2a65b4f9df92",
   "metadata": {},
   "outputs": [],
   "source": [
    "import pymc as pm\n",
    "import arviz as az\n",
    "import pytensor.tensor as at"
   ]
  },
  {
   "cell_type": "code",
   "execution_count": 4,
   "id": "63c128a0-b550-4de3-857e-e69df60f8744",
   "metadata": {},
   "outputs": [],
   "source": [
    "# Loads data\n",
    "dat_file = open('seoul+bike+sharing+demand/SeoulBikeData.csv', 'r')\n",
    "file_lines = dat_file.read().split(\"\\n\")\n",
    "dat_file.close\n",
    "file_lines = file_lines[:-1] # Last line of file is empty with split method so removed\n",
    "features = file_lines[0].split(\",\")\n",
    "label_name = \"Rented Bike Count\"\n",
    "features = [\"Date\", \"Hour\", \"Temperature\", \"Humidity\", \"Wind speed\", \"Visibility\", \"Dew point temperature\",\n",
    "           \"Solar Radiation\", \"Rainfall\", \"Snowfall\", \"Seasons\", \"Holiday\", \"Functioning Day\"]\n",
    "file_lines = file_lines[1:] # Removes feature info"
   ]
  },
  {
   "cell_type": "code",
   "execution_count": 5,
   "id": "21c2c7ed-5b10-4257-93b9-0d1b3b58ea9f",
   "metadata": {},
   "outputs": [],
   "source": [
    "from datetime import datetime\n",
    "import numpy as np\n",
    "# Loads data into nd array\n",
    "no_features = len(features)\n",
    "no_data_items = len(file_lines)\n",
    "X = np.ones((no_data_items, no_features))\n",
    "# Loads date into array. Date is encoded as day number of year (1 = 1st January, 365 = 31st December).\n",
    "# Note this ignores the year variable from dataset, however given that the dataset spans exatcly one year,\n",
    "# no meaningful inference can be drawn from it.\n",
    "for idx, record in enumerate(file_lines):\n",
    "    date_str = record.split(\",\")[0]\n",
    "    date_object = datetime.strptime(date_str, \"%d/%m/%Y\")\n",
    "    day_number = date_object.timetuple().tm_yday\n",
    "    X[idx, 0] = day_number"
   ]
  },
  {
   "cell_type": "code",
   "execution_count": 6,
   "id": "275cb772-e92d-4f84-81c4-7c586bdd1793",
   "metadata": {},
   "outputs": [],
   "source": [
    "# Loads y labels (i.e. bikes rented)\n",
    "Y = np.zeros(no_data_items)\n",
    "for idx, record in enumerate(file_lines):\n",
    "    Y[idx] = record.split(\",\")[1]"
   ]
  },
  {
   "cell_type": "code",
   "execution_count": 7,
   "id": "165696fc-a9af-4fba-9c41-6d202cc16d88",
   "metadata": {},
   "outputs": [],
   "source": [
    "# Loads numerical objects into x that do not need any conversion\n",
    "# Loads hour, temperature, humidity, wind speed, visibility, dew point, solar radiation, rainfall and snowfall\n",
    "for idx, record in enumerate(file_lines):\n",
    "    split_line = record.split(\",\")\n",
    "    for feature_idx in range(2, 10 + 1):\n",
    "        X[idx, feature_idx - 1] = split_line[feature_idx]"
   ]
  },
  {
   "cell_type": "code",
   "execution_count": 8,
   "id": "fe04e34c-cb06-43d5-b9a9-0a3434fdab02",
   "metadata": {},
   "outputs": [],
   "source": [
    "# Loads season data in. 1 = Spring, 2 = Summer, 3 = Autumn, 4 = Winter\n",
    "for idx, record in enumerate(file_lines):\n",
    "    season_str = record.split(\",\")[11]\n",
    "    if season_str == \"Spring\": X[idx, 10] = 1\n",
    "    elif season_str == \"Summer\": X[idx, 10] = 2\n",
    "    elif season_str == \"Autumn\": X[idx, 10] = 3\n",
    "    elif season_str == \"Winter\": X[idx, 10] = 4     "
   ]
  },
  {
   "cell_type": "code",
   "execution_count": 9,
   "id": "4a5acfbf-210a-4235-a752-b4bb1a0e1a1d",
   "metadata": {},
   "outputs": [],
   "source": [
    "# Encodes holiday. 0 = No holiday, 1 = Holiday\n",
    "for idx, record in enumerate(file_lines):\n",
    "    hol_str = record.split(\",\")[12]\n",
    "    if hol_str == \"No Holiday\": X[idx, 11] = 0\n",
    "    elif hol_str == \"Holiday\": X[idx, 11] = 1"
   ]
  },
  {
   "cell_type": "code",
   "execution_count": 10,
   "id": "928fc4c0-a619-4fb1-8cd0-d634d6959200",
   "metadata": {},
   "outputs": [],
   "source": [
    "# Encodes function day. 0 = not functioning day, 1 = Functioning day\n",
    "for idx, record in enumerate(file_lines):\n",
    "    func_str = record.split(\",\")[13]\n",
    "    if func_str == \"Yes\": X[idx, 12] = 1\n",
    "    elif func_str == \"No\" : X[idx, 12] = 0"
   ]
  },
  {
   "cell_type": "code",
   "execution_count": 11,
   "id": "97289bf3-e87c-4adf-82f4-321479fa427f",
   "metadata": {},
   "outputs": [],
   "source": [
    "# Removes all non functioning days. Prediction for this is as simple as\n",
    "# no bikes are sold on non-functioning days. Including this would needelessly skew the model\n",
    "X_cpy = []\n",
    "for idx in range(len(X)):\n",
    "    if X[idx,12] == 1:\n",
    "        X_cpy.append(X[idx])\n",
    "# Removes functioning day column as it's now always true\n",
    "X = np.delete(X, 12, 1)\n",
    "features.remove(\"Functioning Day\")"
   ]
  },
  {
   "cell_type": "code",
   "execution_count": 12,
   "id": "bede12c1-ea31-49fd-90b6-e9fba1a46c00",
   "metadata": {},
   "outputs": [],
   "source": [
    "# Removes season data as weather readings encode most of this information well\n",
    "X = np.delete(X, 10, 1)\n",
    "features.remove(\"Seasons\")"
   ]
  },
  {
   "cell_type": "code",
   "execution_count": 13,
   "id": "dd9ca22c-16cb-436b-bdfa-97aabaad2112",
   "metadata": {},
   "outputs": [],
   "source": [
    "# Removes date from model as other information encodes this well enough\n",
    "X = np.delete(X, 0, 1)\n",
    "features.remove(\"Date\")"
   ]
  },
  {
   "cell_type": "code",
   "execution_count": 26,
   "id": "bf761a69-57f4-4597-9d93-eed7befb56bb",
   "metadata": {},
   "outputs": [
    {
     "ename": "TypeError",
     "evalue": "Unsupported dtype for TensorType: object",
     "output_type": "error",
     "traceback": [
      "\u001b[1;31m---------------------------------------------------------------------------\u001b[0m",
      "\u001b[1;31mKeyError\u001b[0m                                  Traceback (most recent call last)",
      "File \u001b[1;32m~\\AppData\\Local\\Programs\\Python\\Python39\\lib\\site-packages\\pytensor\\tensor\\type.py:292\u001b[0m, in \u001b[0;36mTensorType.dtype_specs\u001b[1;34m(self)\u001b[0m\n\u001b[0;32m    291\u001b[0m \u001b[38;5;28;01mtry\u001b[39;00m:\n\u001b[1;32m--> 292\u001b[0m     \u001b[38;5;28;01mreturn\u001b[39;00m \u001b[38;5;28;43mself\u001b[39;49m\u001b[38;5;241;43m.\u001b[39;49m\u001b[43mdtype_specs_map\u001b[49m\u001b[43m[\u001b[49m\u001b[38;5;28;43mself\u001b[39;49m\u001b[38;5;241;43m.\u001b[39;49m\u001b[43mdtype\u001b[49m\u001b[43m]\u001b[49m\n\u001b[0;32m    293\u001b[0m \u001b[38;5;28;01mexcept\u001b[39;00m \u001b[38;5;167;01mKeyError\u001b[39;00m:\n",
      "\u001b[1;31mKeyError\u001b[0m: 'object'",
      "\nDuring handling of the above exception, another exception occurred:\n",
      "\u001b[1;31mTypeError\u001b[0m                                 Traceback (most recent call last)",
      "Input \u001b[1;32mIn [26]\u001b[0m, in \u001b[0;36m<module>\u001b[1;34m\u001b[0m\n\u001b[0;32m     14\u001b[0m intercept \u001b[38;5;241m=\u001b[39m pm\u001b[38;5;241m.\u001b[39mNormal(\u001b[38;5;124m\"\u001b[39m\u001b[38;5;124mIntercept\u001b[39m\u001b[38;5;124m\"\u001b[39m, mu\u001b[38;5;241m=\u001b[39m\u001b[38;5;241m0\u001b[39m, sigma\u001b[38;5;241m=\u001b[39m\u001b[38;5;241m20\u001b[39m)\n\u001b[0;32m     15\u001b[0m coff_arr \u001b[38;5;241m=\u001b[39m np\u001b[38;5;241m.\u001b[39marray([hour_coff, temp_coff, humid_coff, wind_coff, vis_coff, dew_coff, sol_coff,\n\u001b[0;32m     16\u001b[0m             rain_coff, snow_coff, hol_coff])\n\u001b[1;32m---> 18\u001b[0m bikes_pred_mu \u001b[38;5;241m=\u001b[39m  \u001b[43mcoff_arr\u001b[49m\u001b[43m \u001b[49m\u001b[38;5;241;43m*\u001b[39;49m\u001b[43m \u001b[49m\u001b[43mX\u001b[49m\u001b[43m \u001b[49m\u001b[38;5;241;43m+\u001b[39;49m\u001b[43m \u001b[49m\u001b[43mintercept\u001b[49m\n\u001b[0;32m     19\u001b[0m bikes \u001b[38;5;241m=\u001b[39m pm\u001b[38;5;241m.\u001b[39mNormal(\u001b[38;5;124m'\u001b[39m\u001b[38;5;124mbikes\u001b[39m\u001b[38;5;124m'\u001b[39m, mu\u001b[38;5;241m=\u001b[39mbikes_pred_mu, sigma\u001b[38;5;241m=\u001b[39msig, observed\u001b[38;5;241m=\u001b[39mY)\n",
      "File \u001b[1;32m~\\AppData\\Local\\Programs\\Python\\Python39\\lib\\site-packages\\pytensor\\tensor\\variable.py:201\u001b[0m, in \u001b[0;36m_tensor_py_operators.__radd__\u001b[1;34m(self, other)\u001b[0m\n\u001b[0;32m    200\u001b[0m \u001b[38;5;28;01mdef\u001b[39;00m \u001b[38;5;21m__radd__\u001b[39m(\u001b[38;5;28mself\u001b[39m, other):\n\u001b[1;32m--> 201\u001b[0m     \u001b[38;5;28;01mreturn\u001b[39;00m \u001b[43mat\u001b[49m\u001b[38;5;241;43m.\u001b[39;49m\u001b[43mmath\u001b[49m\u001b[38;5;241;43m.\u001b[39;49m\u001b[43madd\u001b[49m\u001b[43m(\u001b[49m\u001b[43mother\u001b[49m\u001b[43m,\u001b[49m\u001b[43m \u001b[49m\u001b[38;5;28;43mself\u001b[39;49m\u001b[43m)\u001b[49m\n",
      "File \u001b[1;32m~\\AppData\\Local\\Programs\\Python\\Python39\\lib\\site-packages\\pytensor\\graph\\op.py:304\u001b[0m, in \u001b[0;36mOp.__call__\u001b[1;34m(self, *inputs, **kwargs)\u001b[0m\n\u001b[0;32m    262\u001b[0m \u001b[38;5;250m\u001b[39m\u001b[38;5;124mr\u001b[39m\u001b[38;5;124;03m\"\"\"Construct an `Apply` node using :meth:`Op.make_node` and return its outputs.\u001b[39;00m\n\u001b[0;32m    263\u001b[0m \n\u001b[0;32m    264\u001b[0m \u001b[38;5;124;03mThis method is just a wrapper around :meth:`Op.make_node`.\u001b[39;00m\n\u001b[1;32m   (...)\u001b[0m\n\u001b[0;32m    301\u001b[0m \n\u001b[0;32m    302\u001b[0m \u001b[38;5;124;03m\"\"\"\u001b[39;00m\n\u001b[0;32m    303\u001b[0m return_list \u001b[38;5;241m=\u001b[39m kwargs\u001b[38;5;241m.\u001b[39mpop(\u001b[38;5;124m\"\u001b[39m\u001b[38;5;124mreturn_list\u001b[39m\u001b[38;5;124m\"\u001b[39m, \u001b[38;5;28;01mFalse\u001b[39;00m)\n\u001b[1;32m--> 304\u001b[0m node \u001b[38;5;241m=\u001b[39m \u001b[38;5;28mself\u001b[39m\u001b[38;5;241m.\u001b[39mmake_node(\u001b[38;5;241m*\u001b[39minputs, \u001b[38;5;241m*\u001b[39m\u001b[38;5;241m*\u001b[39mkwargs)\n\u001b[0;32m    306\u001b[0m \u001b[38;5;28;01mif\u001b[39;00m config\u001b[38;5;241m.\u001b[39mcompute_test_value \u001b[38;5;241m!=\u001b[39m \u001b[38;5;124m\"\u001b[39m\u001b[38;5;124moff\u001b[39m\u001b[38;5;124m\"\u001b[39m:\n\u001b[0;32m    307\u001b[0m     compute_test_value(node)\n",
      "File \u001b[1;32m~\\AppData\\Local\\Programs\\Python\\Python39\\lib\\site-packages\\pytensor\\tensor\\elemwise.py:482\u001b[0m, in \u001b[0;36mElemwise.make_node\u001b[1;34m(self, *inputs)\u001b[0m\n\u001b[0;32m    476\u001b[0m \u001b[38;5;28;01mdef\u001b[39;00m \u001b[38;5;21mmake_node\u001b[39m(\u001b[38;5;28mself\u001b[39m, \u001b[38;5;241m*\u001b[39minputs):\n\u001b[0;32m    477\u001b[0m \u001b[38;5;250m    \u001b[39m\u001b[38;5;124;03m\"\"\"\u001b[39;00m\n\u001b[0;32m    478\u001b[0m \u001b[38;5;124;03m    If the inputs have different number of dimensions, their shape\u001b[39;00m\n\u001b[0;32m    479\u001b[0m \u001b[38;5;124;03m    is left-completed to the greatest number of dimensions with 1s\u001b[39;00m\n\u001b[0;32m    480\u001b[0m \u001b[38;5;124;03m    using DimShuffle.\u001b[39;00m\n\u001b[0;32m    481\u001b[0m \u001b[38;5;124;03m    \"\"\"\u001b[39;00m\n\u001b[1;32m--> 482\u001b[0m     inputs \u001b[38;5;241m=\u001b[39m [as_tensor_variable(i) \u001b[38;5;28;01mfor\u001b[39;00m i \u001b[38;5;129;01min\u001b[39;00m inputs]\n\u001b[0;32m    483\u001b[0m     out_dtypes, out_shapes, inputs \u001b[38;5;241m=\u001b[39m \u001b[38;5;28mself\u001b[39m\u001b[38;5;241m.\u001b[39mget_output_info(DimShuffle, \u001b[38;5;241m*\u001b[39minputs)\n\u001b[0;32m    484\u001b[0m     outputs \u001b[38;5;241m=\u001b[39m [\n\u001b[0;32m    485\u001b[0m         TensorType(dtype\u001b[38;5;241m=\u001b[39mdtype, shape\u001b[38;5;241m=\u001b[39mshape)()\n\u001b[0;32m    486\u001b[0m         \u001b[38;5;28;01mfor\u001b[39;00m dtype, shape \u001b[38;5;129;01min\u001b[39;00m \u001b[38;5;28mzip\u001b[39m(out_dtypes, out_shapes)\n\u001b[0;32m    487\u001b[0m     ]\n",
      "File \u001b[1;32m~\\AppData\\Local\\Programs\\Python\\Python39\\lib\\site-packages\\pytensor\\tensor\\elemwise.py:482\u001b[0m, in \u001b[0;36m<listcomp>\u001b[1;34m(.0)\u001b[0m\n\u001b[0;32m    476\u001b[0m \u001b[38;5;28;01mdef\u001b[39;00m \u001b[38;5;21mmake_node\u001b[39m(\u001b[38;5;28mself\u001b[39m, \u001b[38;5;241m*\u001b[39minputs):\n\u001b[0;32m    477\u001b[0m \u001b[38;5;250m    \u001b[39m\u001b[38;5;124;03m\"\"\"\u001b[39;00m\n\u001b[0;32m    478\u001b[0m \u001b[38;5;124;03m    If the inputs have different number of dimensions, their shape\u001b[39;00m\n\u001b[0;32m    479\u001b[0m \u001b[38;5;124;03m    is left-completed to the greatest number of dimensions with 1s\u001b[39;00m\n\u001b[0;32m    480\u001b[0m \u001b[38;5;124;03m    using DimShuffle.\u001b[39;00m\n\u001b[0;32m    481\u001b[0m \u001b[38;5;124;03m    \"\"\"\u001b[39;00m\n\u001b[1;32m--> 482\u001b[0m     inputs \u001b[38;5;241m=\u001b[39m [\u001b[43mas_tensor_variable\u001b[49m\u001b[43m(\u001b[49m\u001b[43mi\u001b[49m\u001b[43m)\u001b[49m \u001b[38;5;28;01mfor\u001b[39;00m i \u001b[38;5;129;01min\u001b[39;00m inputs]\n\u001b[0;32m    483\u001b[0m     out_dtypes, out_shapes, inputs \u001b[38;5;241m=\u001b[39m \u001b[38;5;28mself\u001b[39m\u001b[38;5;241m.\u001b[39mget_output_info(DimShuffle, \u001b[38;5;241m*\u001b[39minputs)\n\u001b[0;32m    484\u001b[0m     outputs \u001b[38;5;241m=\u001b[39m [\n\u001b[0;32m    485\u001b[0m         TensorType(dtype\u001b[38;5;241m=\u001b[39mdtype, shape\u001b[38;5;241m=\u001b[39mshape)()\n\u001b[0;32m    486\u001b[0m         \u001b[38;5;28;01mfor\u001b[39;00m dtype, shape \u001b[38;5;129;01min\u001b[39;00m \u001b[38;5;28mzip\u001b[39m(out_dtypes, out_shapes)\n\u001b[0;32m    487\u001b[0m     ]\n",
      "File \u001b[1;32m~\\AppData\\Local\\Programs\\Python\\Python39\\lib\\site-packages\\pytensor\\tensor\\__init__.py:49\u001b[0m, in \u001b[0;36mas_tensor_variable\u001b[1;34m(x, name, ndim, **kwargs)\u001b[0m\n\u001b[0;32m     17\u001b[0m \u001b[38;5;28;01mdef\u001b[39;00m \u001b[38;5;21mas_tensor_variable\u001b[39m(\n\u001b[0;32m     18\u001b[0m     x: TensorLike, name: Optional[\u001b[38;5;28mstr\u001b[39m] \u001b[38;5;241m=\u001b[39m \u001b[38;5;28;01mNone\u001b[39;00m, ndim: Optional[\u001b[38;5;28mint\u001b[39m] \u001b[38;5;241m=\u001b[39m \u001b[38;5;28;01mNone\u001b[39;00m, \u001b[38;5;241m*\u001b[39m\u001b[38;5;241m*\u001b[39mkwargs\n\u001b[0;32m     19\u001b[0m ) \u001b[38;5;241m-\u001b[39m\u001b[38;5;241m>\u001b[39m \u001b[38;5;124m\"\u001b[39m\u001b[38;5;124mTensorVariable\u001b[39m\u001b[38;5;124m\"\u001b[39m:\n\u001b[0;32m     20\u001b[0m \u001b[38;5;250m    \u001b[39m\u001b[38;5;124;03m\"\"\"Convert `x` into an equivalent `TensorVariable`.\u001b[39;00m\n\u001b[0;32m     21\u001b[0m \n\u001b[0;32m     22\u001b[0m \u001b[38;5;124;03m    This function can be used to turn ndarrays, numbers, `ScalarType` instances,\u001b[39;00m\n\u001b[1;32m   (...)\u001b[0m\n\u001b[0;32m     47\u001b[0m \n\u001b[0;32m     48\u001b[0m \u001b[38;5;124;03m    \"\"\"\u001b[39;00m\n\u001b[1;32m---> 49\u001b[0m     \u001b[38;5;28;01mreturn\u001b[39;00m _as_tensor_variable(x, name, ndim, \u001b[38;5;241m*\u001b[39m\u001b[38;5;241m*\u001b[39mkwargs)\n",
      "File \u001b[1;32m~\\AppData\\Local\\Programs\\Python\\Python39\\lib\\functools.py:877\u001b[0m, in \u001b[0;36msingledispatch.<locals>.wrapper\u001b[1;34m(*args, **kw)\u001b[0m\n\u001b[0;32m    873\u001b[0m \u001b[38;5;28;01mif\u001b[39;00m \u001b[38;5;129;01mnot\u001b[39;00m args:\n\u001b[0;32m    874\u001b[0m     \u001b[38;5;28;01mraise\u001b[39;00m \u001b[38;5;167;01mTypeError\u001b[39;00m(\u001b[38;5;124mf\u001b[39m\u001b[38;5;124m'\u001b[39m\u001b[38;5;132;01m{\u001b[39;00mfuncname\u001b[38;5;132;01m}\u001b[39;00m\u001b[38;5;124m requires at least \u001b[39m\u001b[38;5;124m'\u001b[39m\n\u001b[0;32m    875\u001b[0m                     \u001b[38;5;124m'\u001b[39m\u001b[38;5;124m1 positional argument\u001b[39m\u001b[38;5;124m'\u001b[39m)\n\u001b[1;32m--> 877\u001b[0m \u001b[38;5;28;01mreturn\u001b[39;00m dispatch(args[\u001b[38;5;241m0\u001b[39m]\u001b[38;5;241m.\u001b[39m\u001b[38;5;18m__class__\u001b[39m)(\u001b[38;5;241m*\u001b[39margs, \u001b[38;5;241m*\u001b[39m\u001b[38;5;241m*\u001b[39mkw)\n",
      "File \u001b[1;32m~\\AppData\\Local\\Programs\\Python\\Python39\\lib\\site-packages\\pytensor\\tensor\\basic.py:176\u001b[0m, in \u001b[0;36m_as_tensor_numbers\u001b[1;34m(x, name, ndim, dtype, **kwargs)\u001b[0m\n\u001b[0;32m    171\u001b[0m \u001b[38;5;129m@_as_tensor_variable\u001b[39m\u001b[38;5;241m.\u001b[39mregister(np\u001b[38;5;241m.\u001b[39mbool_)\n\u001b[0;32m    172\u001b[0m \u001b[38;5;129m@_as_tensor_variable\u001b[39m\u001b[38;5;241m.\u001b[39mregister(np\u001b[38;5;241m.\u001b[39mnumber)\n\u001b[0;32m    173\u001b[0m \u001b[38;5;129m@_as_tensor_variable\u001b[39m\u001b[38;5;241m.\u001b[39mregister(Number)\n\u001b[0;32m    174\u001b[0m \u001b[38;5;129m@_as_tensor_variable\u001b[39m\u001b[38;5;241m.\u001b[39mregister(np\u001b[38;5;241m.\u001b[39mndarray)\n\u001b[0;32m    175\u001b[0m \u001b[38;5;28;01mdef\u001b[39;00m \u001b[38;5;21m_as_tensor_numbers\u001b[39m(x, name, ndim, dtype\u001b[38;5;241m=\u001b[39m\u001b[38;5;28;01mNone\u001b[39;00m, \u001b[38;5;241m*\u001b[39m\u001b[38;5;241m*\u001b[39mkwargs):\n\u001b[1;32m--> 176\u001b[0m     \u001b[38;5;28;01mreturn\u001b[39;00m \u001b[43mconstant\u001b[49m\u001b[43m(\u001b[49m\u001b[43mx\u001b[49m\u001b[43m,\u001b[49m\u001b[43m \u001b[49m\u001b[43mname\u001b[49m\u001b[38;5;241;43m=\u001b[39;49m\u001b[43mname\u001b[49m\u001b[43m,\u001b[49m\u001b[43m \u001b[49m\u001b[43mndim\u001b[49m\u001b[38;5;241;43m=\u001b[39;49m\u001b[43mndim\u001b[49m\u001b[43m,\u001b[49m\u001b[43m \u001b[49m\u001b[43mdtype\u001b[49m\u001b[38;5;241;43m=\u001b[39;49m\u001b[43mdtype\u001b[49m\u001b[43m)\u001b[49m\n",
      "File \u001b[1;32m~\\AppData\\Local\\Programs\\Python\\Python39\\lib\\site-packages\\pytensor\\tensor\\basic.py:229\u001b[0m, in \u001b[0;36mconstant\u001b[1;34m(x, name, ndim, dtype)\u001b[0m\n\u001b[0;32m    223\u001b[0m             \u001b[38;5;28;01mraise\u001b[39;00m \u001b[38;5;167;01mValueError\u001b[39;00m(\n\u001b[0;32m    224\u001b[0m                 \u001b[38;5;124mf\u001b[39m\u001b[38;5;124m\"\u001b[39m\u001b[38;5;124mndarray could not be cast to constant with \u001b[39m\u001b[38;5;132;01m{\u001b[39;00m\u001b[38;5;28mint\u001b[39m(ndim)\u001b[38;5;132;01m}\u001b[39;00m\u001b[38;5;124m dimensions\u001b[39m\u001b[38;5;124m\"\u001b[39m\n\u001b[0;32m    225\u001b[0m             )\n\u001b[0;32m    227\u001b[0m     \u001b[38;5;28;01massert\u001b[39;00m x_\u001b[38;5;241m.\u001b[39mndim \u001b[38;5;241m==\u001b[39m ndim\n\u001b[1;32m--> 229\u001b[0m ttype \u001b[38;5;241m=\u001b[39m \u001b[43mTensorType\u001b[49m\u001b[43m(\u001b[49m\u001b[43mdtype\u001b[49m\u001b[38;5;241;43m=\u001b[39;49m\u001b[43mx_\u001b[49m\u001b[38;5;241;43m.\u001b[39;49m\u001b[43mdtype\u001b[49m\u001b[43m,\u001b[49m\u001b[43m \u001b[49m\u001b[43mshape\u001b[49m\u001b[38;5;241;43m=\u001b[39;49m\u001b[43mx_\u001b[49m\u001b[38;5;241;43m.\u001b[39;49m\u001b[43mshape\u001b[49m\u001b[43m)\u001b[49m\n\u001b[0;32m    231\u001b[0m \u001b[38;5;28;01mreturn\u001b[39;00m TensorConstant(ttype, x_, name\u001b[38;5;241m=\u001b[39mname)\n",
      "File \u001b[1;32m~\\AppData\\Local\\Programs\\Python\\Python39\\lib\\site-packages\\pytensor\\tensor\\type.py:121\u001b[0m, in \u001b[0;36mTensorType.__init__\u001b[1;34m(self, dtype, shape, name, broadcastable)\u001b[0m\n\u001b[0;32m    116\u001b[0m     \u001b[38;5;28;01mraise\u001b[39;00m \u001b[38;5;167;01mValueError\u001b[39;00m(\n\u001b[0;32m    117\u001b[0m         \u001b[38;5;124mf\u001b[39m\u001b[38;5;124m\"\u001b[39m\u001b[38;5;124mTensorType broadcastable/shape must be a boolean, integer or None, got \u001b[39m\u001b[38;5;132;01m{\u001b[39;00m\u001b[38;5;28mtype\u001b[39m(s)\u001b[38;5;132;01m}\u001b[39;00m\u001b[38;5;124m \u001b[39m\u001b[38;5;132;01m{\u001b[39;00ms\u001b[38;5;132;01m}\u001b[39;00m\u001b[38;5;124m\"\u001b[39m\n\u001b[0;32m    118\u001b[0m     )\n\u001b[0;32m    120\u001b[0m \u001b[38;5;28mself\u001b[39m\u001b[38;5;241m.\u001b[39mshape \u001b[38;5;241m=\u001b[39m \u001b[38;5;28mtuple\u001b[39m(parse_bcast_and_shape(s) \u001b[38;5;28;01mfor\u001b[39;00m s \u001b[38;5;129;01min\u001b[39;00m shape)\n\u001b[1;32m--> 121\u001b[0m \u001b[38;5;28;43mself\u001b[39;49m\u001b[38;5;241;43m.\u001b[39;49m\u001b[43mdtype_specs\u001b[49m\u001b[43m(\u001b[49m\u001b[43m)\u001b[49m  \u001b[38;5;66;03m# error checking is done there\u001b[39;00m\n\u001b[0;32m    122\u001b[0m \u001b[38;5;28mself\u001b[39m\u001b[38;5;241m.\u001b[39mname \u001b[38;5;241m=\u001b[39m name\n\u001b[0;32m    123\u001b[0m \u001b[38;5;28mself\u001b[39m\u001b[38;5;241m.\u001b[39mnumpy_dtype \u001b[38;5;241m=\u001b[39m np\u001b[38;5;241m.\u001b[39mdtype(\u001b[38;5;28mself\u001b[39m\u001b[38;5;241m.\u001b[39mdtype)\n",
      "File \u001b[1;32m~\\AppData\\Local\\Programs\\Python\\Python39\\lib\\site-packages\\pytensor\\tensor\\type.py:294\u001b[0m, in \u001b[0;36mTensorType.dtype_specs\u001b[1;34m(self)\u001b[0m\n\u001b[0;32m    292\u001b[0m     \u001b[38;5;28;01mreturn\u001b[39;00m \u001b[38;5;28mself\u001b[39m\u001b[38;5;241m.\u001b[39mdtype_specs_map[\u001b[38;5;28mself\u001b[39m\u001b[38;5;241m.\u001b[39mdtype]\n\u001b[0;32m    293\u001b[0m \u001b[38;5;28;01mexcept\u001b[39;00m \u001b[38;5;167;01mKeyError\u001b[39;00m:\n\u001b[1;32m--> 294\u001b[0m     \u001b[38;5;28;01mraise\u001b[39;00m \u001b[38;5;167;01mTypeError\u001b[39;00m(\n\u001b[0;32m    295\u001b[0m         \u001b[38;5;124mf\u001b[39m\u001b[38;5;124m\"\u001b[39m\u001b[38;5;124mUnsupported dtype for \u001b[39m\u001b[38;5;132;01m{\u001b[39;00m\u001b[38;5;28mself\u001b[39m\u001b[38;5;241m.\u001b[39m\u001b[38;5;18m__class__\u001b[39m\u001b[38;5;241m.\u001b[39m\u001b[38;5;18m__name__\u001b[39m\u001b[38;5;132;01m}\u001b[39;00m\u001b[38;5;124m: \u001b[39m\u001b[38;5;132;01m{\u001b[39;00m\u001b[38;5;28mself\u001b[39m\u001b[38;5;241m.\u001b[39mdtype\u001b[38;5;132;01m}\u001b[39;00m\u001b[38;5;124m\"\u001b[39m\n\u001b[0;32m    296\u001b[0m     )\n",
      "\u001b[1;31mTypeError\u001b[0m: Unsupported dtype for TensorType: object"
     ]
    }
   ],
   "source": [
    "# Task 11 - Makes model and chooses priors\n",
    "with pm.Model(coords={\"predictors\": features}) as model:\n",
    "    hour_coff = pm.Normal(\"Hour\", mu=0, sigma=20)\n",
    "    temp_coff = pm.Normal(\"Temperature\", mu=10, sigma=2)\n",
    "    humid_coff = pm.Normal(\"Humidity\", mu=-4, sigma=20)\n",
    "    wind_coff = pm.Normal(\"Wind speed\", mu=-10, sigma=2)\n",
    "    vis_coff = pm.Normal(\"Visibility\", mu=5, sigma=10)\n",
    "    dew_coff = pm.Normal(\"Dew point temperature\", mu=-4, sigma=20)\n",
    "    sol_coff = pm.Normal(\"Solar radiation\", mu=10, sigma=10)\n",
    "    rain_coff = pm.Normal(\"Rainfall\", mu=-20, sigma=2)\n",
    "    snow_coff = pm.Normal(\"Snowfall\", mu=-50, sigma=1)\n",
    "    hol_coff = pm.Normal(\"Holiday\", mu=-1, sigma=3)\n",
    "    sig = pm.HalfNormal(\"Sigma\", sigma=2)\n",
    "    intercept = pm.Normal(\"Intercept\", mu=0, sigma=20)\n",
    "    coff_arr = np.array([hour_coff, temp_coff, humid_coff, wind_coff, vis_coff, dew_coff, sol_coff,\n",
    "                rain_coff, snow_coff, hol_coff])\n",
    "    \n",
    "    bikes_pred_mu =  (coff_arr * X) + intercept\n",
    "    bikes = pm.Normal('bikes', mu=bikes_pred_mu, sigma=sig, observed=Y)"
   ]
  }
 ],
 "metadata": {
  "kernelspec": {
   "display_name": "Python 3 (ipykernel)",
   "language": "python",
   "name": "python3"
  },
  "language_info": {
   "codemirror_mode": {
    "name": "ipython",
    "version": 3
   },
   "file_extension": ".py",
   "mimetype": "text/x-python",
   "name": "python",
   "nbconvert_exporter": "python",
   "pygments_lexer": "ipython3",
   "version": "3.9.9"
  }
 },
 "nbformat": 4,
 "nbformat_minor": 5
}
