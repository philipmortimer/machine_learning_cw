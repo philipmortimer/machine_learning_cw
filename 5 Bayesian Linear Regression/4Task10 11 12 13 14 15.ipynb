{
 "cells": [
  {
   "cell_type": "code",
   "execution_count": 1,
   "id": "34003098-92c7-4564-83f8-995a00e71927",
   "metadata": {},
   "outputs": [],
   "source": [
    "# 5 Bayesian Linear Regression"
   ]
  },
  {
   "cell_type": "code",
   "execution_count": 2,
   "id": "16ff78d6-1873-4233-904f-da67048760f5",
   "metadata": {},
   "outputs": [],
   "source": [
    "# Task 10"
   ]
  },
  {
   "cell_type": "code",
   "execution_count": 3,
   "id": "4512796e-bc0c-44e1-9bb0-2a65b4f9df92",
   "metadata": {},
   "outputs": [
    {
     "name": "stderr",
     "output_type": "stream",
     "text": [
      "WARNING (pytensor.configdefaults): g++ not available, if using conda: `conda install m2w64-toolchain`\n",
      "WARNING (pytensor.configdefaults): g++ not detected!  PyTensor will be unable to compile C-implementations and will default to Python. Performance may be severely degraded. To remove this warning, set PyTensor flags cxx to an empty string.\n",
      "WARNING (pytensor.tensor.blas): Using NumPy C-API based implementation for BLAS functions.\n"
     ]
    }
   ],
   "source": [
    "import pymc as pm\n",
    "import arviz as az\n",
    "import pytensor.tensor as at"
   ]
  },
  {
   "cell_type": "code",
   "execution_count": 4,
   "id": "63c128a0-b550-4de3-857e-e69df60f8744",
   "metadata": {},
   "outputs": [],
   "source": [
    "# Loads data\n",
    "dat_file = open('seoul+bike+sharing+demand/SeoulBikeData.csv', 'r')\n",
    "file_lines = dat_file.read().split(\"\\n\")\n",
    "dat_file.close\n",
    "file_lines = file_lines[:-1] # Last line of file is empty with split method so removed\n",
    "features = file_lines[0].split(\",\")\n",
    "label_name = \"Rented Bike Count\"\n",
    "features = [\"Date\", \"Hour\", \"Temperature\", \"Humidity\", \"Wind speed\", \"Visibility\", \"Dew point temperature\",\n",
    "           \"Solar Radiation\", \"Rainfall\", \"Snowfall\", \"Seasons\", \"Holiday\", \"Functioning Day\"]\n",
    "file_lines = file_lines[1:] # Removes feature info"
   ]
  },
  {
   "cell_type": "code",
   "execution_count": 5,
   "id": "21c2c7ed-5b10-4257-93b9-0d1b3b58ea9f",
   "metadata": {},
   "outputs": [],
   "source": [
    "from datetime import datetime\n",
    "import numpy as np\n",
    "# Loads data into nd array\n",
    "no_features = len(features)\n",
    "no_data_items = len(file_lines)\n",
    "X = np.ones((no_data_items, no_features))\n",
    "# Loads date into array. Date is encoded as day number of year (1 = 1st January, 365 = 31st December).\n",
    "# Note this ignores the year variable from dataset, however given that the dataset spans exatcly one year,\n",
    "# no meaningful inference can be drawn from it.\n",
    "for idx, record in enumerate(file_lines):\n",
    "    date_str = record.split(\",\")[0]\n",
    "    date_object = datetime.strptime(date_str, \"%d/%m/%Y\")\n",
    "    day_number = date_object.timetuple().tm_yday\n",
    "    X[idx, 0] = day_number"
   ]
  },
  {
   "cell_type": "code",
   "execution_count": 6,
   "id": "275cb772-e92d-4f84-81c4-7c586bdd1793",
   "metadata": {},
   "outputs": [],
   "source": [
    "# Loads y labels (i.e. bikes rented)\n",
    "Y = np.zeros(no_data_items)\n",
    "for idx, record in enumerate(file_lines):\n",
    "    Y[idx] = record.split(\",\")[1]"
   ]
  },
  {
   "cell_type": "code",
   "execution_count": 7,
   "id": "165696fc-a9af-4fba-9c41-6d202cc16d88",
   "metadata": {},
   "outputs": [],
   "source": [
    "# Loads numerical objects into x that do not need any conversion\n",
    "# Loads hour, temperature, humidity, wind speed, visibility, dew point, solar radiation, rainfall and snowfall\n",
    "for idx, record in enumerate(file_lines):\n",
    "    split_line = record.split(\",\")\n",
    "    for feature_idx in range(2, 10 + 1):\n",
    "        X[idx, feature_idx - 1] = split_line[feature_idx]"
   ]
  },
  {
   "cell_type": "code",
   "execution_count": 8,
   "id": "fe04e34c-cb06-43d5-b9a9-0a3434fdab02",
   "metadata": {},
   "outputs": [],
   "source": [
    "# Loads season data in. 1 = Spring, 2 = Summer, 3 = Autumn, 4 = Winter\n",
    "for idx, record in enumerate(file_lines):\n",
    "    season_str = record.split(\",\")[11]\n",
    "    if season_str == \"Spring\": X[idx, 10] = 1\n",
    "    elif season_str == \"Summer\": X[idx, 10] = 2\n",
    "    elif season_str == \"Autumn\": X[idx, 10] = 3\n",
    "    elif season_str == \"Winter\": X[idx, 10] = 4     "
   ]
  },
  {
   "cell_type": "code",
   "execution_count": 9,
   "id": "4a5acfbf-210a-4235-a752-b4bb1a0e1a1d",
   "metadata": {},
   "outputs": [],
   "source": [
    "# Encodes holiday. 0 = No holiday, 1 = Holiday\n",
    "for idx, record in enumerate(file_lines):\n",
    "    hol_str = record.split(\",\")[12]\n",
    "    if hol_str == \"No Holiday\": X[idx, 11] = 0\n",
    "    elif hol_str == \"Holiday\": X[idx, 11] = 1"
   ]
  },
  {
   "cell_type": "code",
   "execution_count": 10,
   "id": "928fc4c0-a619-4fb1-8cd0-d634d6959200",
   "metadata": {},
   "outputs": [],
   "source": [
    "# Encodes function day. 0 = not functioning day, 1 = Functioning day\n",
    "for idx, record in enumerate(file_lines):\n",
    "    func_str = record.split(\",\")[13]\n",
    "    if func_str == \"Yes\": X[idx, 12] = 1\n",
    "    elif func_str == \"No\" : X[idx, 12] = 0"
   ]
  },
  {
   "cell_type": "code",
   "execution_count": 11,
   "id": "97289bf3-e87c-4adf-82f4-321479fa427f",
   "metadata": {},
   "outputs": [],
   "source": [
    "# Removes all non functioning days. Prediction for this is as simple as\n",
    "# no bikes are sold on non-functioning days. Including this would needelessly skew the model\n",
    "X_cpy = []\n",
    "for idx in range(len(X)):\n",
    "    if X[idx,12] == 1:\n",
    "        X_cpy.append(X[idx])\n",
    "# Removes functioning day column as it's now always true\n",
    "X = np.delete(X, 12, 1)\n",
    "features.remove(\"Functioning Day\")"
   ]
  },
  {
   "cell_type": "code",
   "execution_count": 12,
   "id": "bede12c1-ea31-49fd-90b6-e9fba1a46c00",
   "metadata": {},
   "outputs": [],
   "source": [
    "# Removes season data as weather readings encode most of this information well\n",
    "X = np.delete(X, 10, 1)\n",
    "features.remove(\"Seasons\")"
   ]
  },
  {
   "cell_type": "code",
   "execution_count": 13,
   "id": "dd9ca22c-16cb-436b-bdfa-97aabaad2112",
   "metadata": {},
   "outputs": [],
   "source": [
    "# Removes date from model as other information encodes this well enough\n",
    "X = np.delete(X, 0, 1)\n",
    "features.remove(\"Date\")"
   ]
  },
  {
   "cell_type": "code",
   "execution_count": null,
   "id": "bf761a69-57f4-4597-9d93-eed7befb56bb",
   "metadata": {},
   "outputs": [
    {
     "name": "stderr",
     "output_type": "stream",
     "text": [
      "C:\\Users\\phili\\AppData\\Local\\Programs\\Python\\Python39\\lib\\site-packages\\pytensor\\tensor\\rewriting\\elemwise.py:1028: UserWarning: Loop fusion failed because the resulting node would exceed the kernel argument limit.\n",
      "  warn(\n",
      "Multiprocess sampling (4 chains in 4 jobs)\n",
      "NUTS: [Hour, Temperature, Humidity, Wind speed, Visibility, Dew point temperature, Solar radiation, Rainfall, Snowfall, Holiday, Sigma, Intercept]\n"
     ]
    },
    {
     "data": {
      "text/html": [
       "\n",
       "<style>\n",
       "    /* Turns off some styling */\n",
       "    progress {\n",
       "        /* gets rid of default border in Firefox and Opera. */\n",
       "        border: none;\n",
       "        /* Needs to be in here for Safari polyfill so background images work as expected. */\n",
       "        background-size: auto;\n",
       "    }\n",
       "    progress:not([value]), progress:not([value])::-webkit-progress-bar {\n",
       "        background: repeating-linear-gradient(45deg, #7e7e7e, #7e7e7e 10px, #5c5c5c 10px, #5c5c5c 20px);\n",
       "    }\n",
       "    .progress-bar-interrupted, .progress-bar-interrupted::-webkit-progress-bar {\n",
       "        background: #F44336;\n",
       "    }\n",
       "</style>\n"
      ],
      "text/plain": [
       "<IPython.core.display.HTML object>"
      ]
     },
     "metadata": {},
     "output_type": "display_data"
    },
    {
     "data": {
      "text/html": [
       "\n",
       "    <div>\n",
       "      <progress value='193' class='' max='8000' style='width:300px; height:20px; vertical-align: middle;'></progress>\n",
       "      2.41% [193/8000 02:42&lt;1:49:19 Sampling 4 chains, 0 divergences]\n",
       "    </div>\n",
       "    "
      ],
      "text/plain": [
       "<IPython.core.display.HTML object>"
      ]
     },
     "metadata": {},
     "output_type": "display_data"
    }
   ],
   "source": [
    "# Task 11 + 12 - Makes model and chooses priors. Then trains BLR model\n",
    "with pm.Model(coords={\"predictors\": features}) as model:\n",
    "    hour_coff = pm.Normal(\"Hour\", mu=0, sigma=20)\n",
    "    temp_coff = pm.Normal(\"Temperature\", mu=10, sigma=2)\n",
    "    humid_coff = pm.Normal(\"Humidity\", mu=-4, sigma=20)\n",
    "    wind_coff = pm.Normal(\"Wind speed\", mu=-10, sigma=2)\n",
    "    vis_coff = pm.Normal(\"Visibility\", mu=5, sigma=10)\n",
    "    dew_coff = pm.Normal(\"Dew point temperature\", mu=-4, sigma=20)\n",
    "    sol_coff = pm.Normal(\"Solar radiation\", mu=10, sigma=10)\n",
    "    rain_coff = pm.Normal(\"Rainfall\", mu=-20, sigma=2)\n",
    "    snow_coff = pm.Normal(\"Snowfall\", mu=-50, sigma=1)\n",
    "    hol_coff = pm.Normal(\"Holiday\", mu=-1, sigma=3)\n",
    "    sig = pm.HalfNormal(\"Sigma\", sigma=2)\n",
    "    intercept = pm.Normal(\"Intercept\", mu=0, sigma=20, shape=len(X))\n",
    "    coff_arr = [hour_coff, temp_coff, humid_coff, wind_coff, vis_coff, dew_coff, sol_coff,\n",
    "                rain_coff, snow_coff, hol_coff]\n",
    "\n",
    "    # Amounts to  bikes_pred_mu = matmul(coff_arr, X_transpose) + intercept\n",
    "    bikes_pred_mu =  intercept\n",
    "    for feature in range(len(X[0])):\n",
    "        bikes_pred_mu += coff_arr[feature] * X[:,feature]\n",
    "    bikes = pm.Normal('bikes', mu=bikes_pred_mu, sigma=sig, observed=Y)\n",
    "    # Performs BLR\n",
    "    idata = pm.sample(1000, step=pm.NUTS(), progressbar=True)"
   ]
  },
  {
   "cell_type": "code",
   "execution_count": null,
   "id": "f3ee285a-f06c-4895-aa86-3dd00a9760bd",
   "metadata": {},
   "outputs": [],
   "source": [
    "# Plots model summary\n",
    "az.summary(idata, round_to=2)"
   ]
  },
  {
   "cell_type": "code",
   "execution_count": null,
   "id": "c08e83ef-3ffd-4d4f-8466-bec620a9b04d",
   "metadata": {},
   "outputs": [],
   "source": [
    "# Plots traces for posteriors\n",
    "az.plot_trace(idata, combined=True)\n",
    "az.plot_trace(idata,legend=True)"
   ]
  }
 ],
 "metadata": {
  "kernelspec": {
   "display_name": "Python 3 (ipykernel)",
   "language": "python",
   "name": "python3"
  },
  "language_info": {
   "codemirror_mode": {
    "name": "ipython",
    "version": 3
   },
   "file_extension": ".py",
   "mimetype": "text/x-python",
   "name": "python",
   "nbconvert_exporter": "python",
   "pygments_lexer": "ipython3",
   "version": "3.9.9"
  }
 },
 "nbformat": 4,
 "nbformat_minor": 5
}
